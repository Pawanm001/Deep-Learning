{
  "nbformat": 4,
  "nbformat_minor": 0,
  "metadata": {
    "colab": {
      "name": "MNIST_KERAS_MODEL.ipynb",
      "version": "0.3.2",
      "provenance": [],
      "include_colab_link": true
    },
    "kernelspec": {
      "name": "python3",
      "display_name": "Python 3"
    },
    "accelerator": "GPU"
  },
  "cells": [
    {
      "cell_type": "markdown",
      "metadata": {
        "id": "view-in-github",
        "colab_type": "text"
      },
      "source": [
        "<a href=\"https://colab.research.google.com/github/Pawanm001/Deep-Learning/blob/master/MNIST_KERAS_MODEL.ipynb\" target=\"_parent\"><img src=\"https://colab.research.google.com/assets/colab-badge.svg\" alt=\"Open In Colab\"/></a>"
      ]
    },
    {
      "metadata": {
        "id": "25dDM73jn4vL",
        "colab_type": "code",
        "colab": {
          "base_uri": "https://localhost:8080/",
          "height": 34
        },
        "outputId": "c61de727-4e01-4cac-8213-d34a9f8dd298"
      },
      "cell_type": "code",
      "source": [
        "from keras import layers\n",
        "from keras import models"
      ],
      "execution_count": 1,
      "outputs": [
        {
          "output_type": "stream",
          "text": [
            "Using TensorFlow backend.\n"
          ],
          "name": "stderr"
        }
      ]
    },
    {
      "metadata": {
        "id": "ObdVW-tMoCHJ",
        "colab_type": "code",
        "colab": {}
      },
      "cell_type": "code",
      "source": [
        "model = models.Sequential()"
      ],
      "execution_count": 0,
      "outputs": []
    },
    {
      "metadata": {
        "id": "dKn9a1qCofMI",
        "colab_type": "code",
        "colab": {}
      },
      "cell_type": "code",
      "source": [
        "model.add(layers.Conv2D(32, (3, 3), activation='relu', input_shape= (28, 28, 1)))\n",
        "model.add(layers.MaxPooling2D((2, 2)))\n",
        "model.add(layers.Conv2D(64, (3, 3), activation = 'relu'))\n",
        "model.add(layers.MaxPooling2D((2, 2)))\n",
        "model.add(layers.Conv2D(64, (3, 3) ,activation = 'relu'))\n",
        "model.add(layers.Flatten())\n",
        "model.add(layers.Dense(64, activation='relu'))\n",
        "model.add(layers.Dense(10, activation='softmax'))"
      ],
      "execution_count": 0,
      "outputs": []
    },
    {
      "metadata": {
        "id": "fV-0OEiEpRtX",
        "colab_type": "code",
        "outputId": "0517968f-7d72-4c56-f587-245b20133c49",
        "colab": {
          "base_uri": "https://localhost:8080/",
          "height": 408
        }
      },
      "cell_type": "code",
      "source": [
        "model.summary()"
      ],
      "execution_count": 4,
      "outputs": [
        {
          "output_type": "stream",
          "text": [
            "_________________________________________________________________\n",
            "Layer (type)                 Output Shape              Param #   \n",
            "=================================================================\n",
            "conv2d_1 (Conv2D)            (None, 26, 26, 32)        320       \n",
            "_________________________________________________________________\n",
            "max_pooling2d_1 (MaxPooling2 (None, 13, 13, 32)        0         \n",
            "_________________________________________________________________\n",
            "conv2d_2 (Conv2D)            (None, 11, 11, 64)        18496     \n",
            "_________________________________________________________________\n",
            "max_pooling2d_2 (MaxPooling2 (None, 5, 5, 64)          0         \n",
            "_________________________________________________________________\n",
            "conv2d_3 (Conv2D)            (None, 3, 3, 64)          36928     \n",
            "_________________________________________________________________\n",
            "flatten_1 (Flatten)          (None, 576)               0         \n",
            "_________________________________________________________________\n",
            "dense_1 (Dense)              (None, 64)                36928     \n",
            "_________________________________________________________________\n",
            "dense_2 (Dense)              (None, 10)                650       \n",
            "=================================================================\n",
            "Total params: 93,322\n",
            "Trainable params: 93,322\n",
            "Non-trainable params: 0\n",
            "_________________________________________________________________\n"
          ],
          "name": "stdout"
        }
      ]
    },
    {
      "metadata": {
        "id": "v3KVRg5Ew8Dj",
        "colab_type": "code",
        "colab": {}
      },
      "cell_type": "code",
      "source": [
        "from keras.datasets import mnist\n",
        "from keras.utils import to_categorical"
      ],
      "execution_count": 0,
      "outputs": []
    },
    {
      "metadata": {
        "id": "hXBqO2RPx9X2",
        "colab_type": "code",
        "colab": {}
      },
      "cell_type": "code",
      "source": [
        "(train_images,train_lables),(test_images,test_lables)=mnist.load_data()"
      ],
      "execution_count": 0,
      "outputs": []
    },
    {
      "metadata": {
        "id": "n35NsflNDKTI",
        "colab_type": "code",
        "outputId": "2ff35a91-51bc-444b-ea15-a8dfba3d2507",
        "colab": {
          "base_uri": "https://localhost:8080/",
          "height": 85
        }
      },
      "cell_type": "code",
      "source": [
        "print(\"Train Image Shape: \",train_images.shape)\n",
        "print(\"Train Lables shape: \", train_lables.shape)\n",
        "print(\"Test Image Shape:\", test_images.shape)\n",
        "print(\"Test lables :\",test_lables.shape)"
      ],
      "execution_count": 11,
      "outputs": [
        {
          "output_type": "stream",
          "text": [
            "Train Image Shape:  (60000, 28, 28)\n",
            "Train Lables shape:  (60000,)\n",
            "Test Image Shape: (10000, 28, 28)\n",
            "Test lables : (10000,)\n"
          ],
          "name": "stdout"
        }
      ]
    },
    {
      "metadata": {
        "id": "RdjxeihVDPjW",
        "colab_type": "code",
        "colab": {
          "base_uri": "https://localhost:8080/",
          "height": 85
        },
        "outputId": "a60dd0e2-b8c0-4554-8e0d-61a1b13cfe81"
      },
      "cell_type": "code",
      "source": [
        "# Preprossing of data using keras\n",
        "train_images = train_images.reshape((60000, 28, 28, 1))\n",
        "train_images = train_images.astype('float32') / 255\n",
        "\n",
        "test_images = test_images.reshape((10000, 28, 28, 1))\n",
        "test_images = test_images.astype('float32') / 255\n",
        "\n",
        "train_lables = to_categorical(train_lables)\n",
        "test_lables = to_categorical(test_lables)\n",
        "\n",
        "print(\"Train Image Shape: \",train_images.shape)\n",
        "print(\"Train Lables shape: \", train_lables.shape)\n",
        "print(\"Test Image Shape:\", test_images.shape)\n",
        "print(\"Test lables :\",test_lables.shape)\n",
        "\n",
        "\n"
      ],
      "execution_count": 13,
      "outputs": [
        {
          "output_type": "stream",
          "text": [
            "Train Image Shape:  (60000, 28, 28, 1)\n",
            "Train Lables shape:  (60000, 10)\n",
            "Test Image Shape: (10000, 28, 28, 1)\n",
            "Test lables : (10000, 10)\n"
          ],
          "name": "stdout"
        }
      ]
    },
    {
      "metadata": {
        "id": "Il2ZAUF3EJon",
        "colab_type": "code",
        "outputId": "deabf9c5-4ba9-4c54-858f-dce7adeb8726",
        "colab": {
          "base_uri": "https://localhost:8080/",
          "height": 136
        }
      },
      "cell_type": "code",
      "source": [
        "train_lables"
      ],
      "execution_count": 14,
      "outputs": [
        {
          "output_type": "execute_result",
          "data": {
            "text/plain": [
              "array([[0., 0., 0., ..., 0., 0., 0.],\n",
              "       [1., 0., 0., ..., 0., 0., 0.],\n",
              "       [0., 0., 0., ..., 0., 0., 0.],\n",
              "       ...,\n",
              "       [0., 0., 0., ..., 0., 0., 0.],\n",
              "       [0., 0., 0., ..., 0., 0., 0.],\n",
              "       [0., 0., 0., ..., 0., 1., 0.]], dtype=float32)"
            ]
          },
          "metadata": {
            "tags": []
          },
          "execution_count": 14
        }
      ]
    },
    {
      "metadata": {
        "id": "ymSndIaVEeVx",
        "colab_type": "code",
        "colab": {}
      },
      "cell_type": "code",
      "source": [
        "model.compile(loss='categorical_crossentropy',\n",
        "              optimizer='rmsprop',\n",
        "              metrics=['accuracy'])"
      ],
      "execution_count": 0,
      "outputs": []
    },
    {
      "metadata": {
        "id": "qYSis0XibAKq",
        "colab_type": "code",
        "colab": {
          "base_uri": "https://localhost:8080/",
          "height": 374
        },
        "outputId": "b41dd394-e982-4518-dfbb-0c8698306aae"
      },
      "cell_type": "code",
      "source": [
        "model.fit(train_images,train_lables,epochs = 10,batch_size = 64)"
      ],
      "execution_count": 26,
      "outputs": [
        {
          "output_type": "stream",
          "text": [
            "Epoch 1/10\n",
            "60000/60000 [==============================] - 9s 158us/step - loss: 0.0450 - acc: 0.9861\n",
            "Epoch 2/10\n",
            "60000/60000 [==============================] - 9s 158us/step - loss: 0.0409 - acc: 0.9869\n",
            "Epoch 3/10\n",
            "60000/60000 [==============================] - 9s 157us/step - loss: 0.0376 - acc: 0.9885\n",
            "Epoch 4/10\n",
            "60000/60000 [==============================] - 10s 158us/step - loss: 0.0343 - acc: 0.9890\n",
            "Epoch 5/10\n",
            "60000/60000 [==============================] - 9s 157us/step - loss: 0.0321 - acc: 0.9900\n",
            "Epoch 6/10\n",
            "60000/60000 [==============================] - 9s 158us/step - loss: 0.0302 - acc: 0.9905\n",
            "Epoch 7/10\n",
            "60000/60000 [==============================] - 9s 157us/step - loss: 0.0279 - acc: 0.9912\n",
            "Epoch 8/10\n",
            "60000/60000 [==============================] - 9s 158us/step - loss: 0.0259 - acc: 0.9921\n",
            "Epoch 9/10\n",
            "60000/60000 [==============================] - 10s 158us/step - loss: 0.0247 - acc: 0.9923\n",
            "Epoch 10/10\n",
            "60000/60000 [==============================] - 9s 157us/step - loss: 0.0232 - acc: 0.9930\n"
          ],
          "name": "stdout"
        },
        {
          "output_type": "execute_result",
          "data": {
            "text/plain": [
              "<keras.callbacks.History at 0x7fb720562668>"
            ]
          },
          "metadata": {
            "tags": []
          },
          "execution_count": 26
        }
      ]
    },
    {
      "metadata": {
        "id": "f3oKE3s1bSlI",
        "colab_type": "code",
        "colab": {
          "base_uri": "https://localhost:8080/",
          "height": 34
        },
        "outputId": "aa3310b4-c8e7-4935-c6ec-958b3e24ccd3"
      },
      "cell_type": "code",
      "source": [
        "test_loss, test_acc = model.evaluate(test_images,test_lables)"
      ],
      "execution_count": 27,
      "outputs": [
        {
          "output_type": "stream",
          "text": [
            "10000/10000 [==============================] - 1s 89us/step\n"
          ],
          "name": "stdout"
        }
      ]
    },
    {
      "metadata": {
        "id": "doce6nUSc5ZK",
        "colab_type": "code",
        "colab": {
          "base_uri": "https://localhost:8080/",
          "height": 34
        },
        "outputId": "26cae47e-f6b0-4469-b869-1197d2f66140"
      },
      "cell_type": "code",
      "source": [
        "test_loss"
      ],
      "execution_count": 28,
      "outputs": [
        {
          "output_type": "execute_result",
          "data": {
            "text/plain": [
              "0.042618243586480094"
            ]
          },
          "metadata": {
            "tags": []
          },
          "execution_count": 28
        }
      ]
    },
    {
      "metadata": {
        "id": "pgF3CR3Zc8GO",
        "colab_type": "code",
        "colab": {
          "base_uri": "https://localhost:8080/",
          "height": 34
        },
        "outputId": "09e4f39e-f72a-4619-976b-50a0acdb21cf"
      },
      "cell_type": "code",
      "source": [
        "test_acc"
      ],
      "execution_count": 29,
      "outputs": [
        {
          "output_type": "execute_result",
          "data": {
            "text/plain": [
              "0.9867"
            ]
          },
          "metadata": {
            "tags": []
          },
          "execution_count": 29
        }
      ]
    },
    {
      "metadata": {
        "id": "E202CZGIc_Kv",
        "colab_type": "code",
        "colab": {}
      },
      "cell_type": "code",
      "source": [
        ""
      ],
      "execution_count": 0,
      "outputs": []
    }
  ]
}